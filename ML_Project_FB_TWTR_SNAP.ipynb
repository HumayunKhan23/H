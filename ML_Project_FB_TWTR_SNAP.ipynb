{
  "cells": [
    {
      "cell_type": "code",
      "execution_count": null,
      "metadata": {
        "id": "KiUsSqmKnz6y"
      },
      "outputs": [],
      "source": [
        "import math\n",
        "from pandas.core.frame import DataFrame\n",
        "from sklearn.preprocessing import MinMaxScaler\n",
        "from keras.models import Sequential\n",
        "from keras.layers import Dense,LSTM\n",
        "from google.colab import files\n",
        "from datascience import *\n",
        "import pandas_datareader as web\n",
        "import numpy as np\n",
        "import pandas as pd\n",
        "import matplotlib.pyplot as plt\n",
        "%matplotlib inline\n",
        "plt.style.use('bmh')"
      ]
    },
    {
      "cell_type": "code",
      "execution_count": null,
      "metadata": {
        "colab": {
          "base_uri": "https://localhost:8080/",
          "height": 38
        },
        "id": "eFnj7i2loQp0",
        "outputId": "0cf38fd5-bc96-444b-a036-3dc412584083"
      },
      "outputs": [
        {
          "output_type": "display_data",
          "data": {
            "text/plain": [
              "<IPython.core.display.HTML object>"
            ],
            "text/html": [
              "\n",
              "     <input type=\"file\" id=\"files-bbb7aa33-e399-487a-bfa2-f76291401571\" name=\"files[]\" multiple disabled\n",
              "        style=\"border:none\" />\n",
              "     <output id=\"result-bbb7aa33-e399-487a-bfa2-f76291401571\">\n",
              "      Upload widget is only available when the cell has been executed in the\n",
              "      current browser session. Please rerun this cell to enable.\n",
              "      </output>\n",
              "      <script>// Copyright 2017 Google LLC\n",
              "//\n",
              "// Licensed under the Apache License, Version 2.0 (the \"License\");\n",
              "// you may not use this file except in compliance with the License.\n",
              "// You may obtain a copy of the License at\n",
              "//\n",
              "//      http://www.apache.org/licenses/LICENSE-2.0\n",
              "//\n",
              "// Unless required by applicable law or agreed to in writing, software\n",
              "// distributed under the License is distributed on an \"AS IS\" BASIS,\n",
              "// WITHOUT WARRANTIES OR CONDITIONS OF ANY KIND, either express or implied.\n",
              "// See the License for the specific language governing permissions and\n",
              "// limitations under the License.\n",
              "\n",
              "/**\n",
              " * @fileoverview Helpers for google.colab Python module.\n",
              " */\n",
              "(function(scope) {\n",
              "function span(text, styleAttributes = {}) {\n",
              "  const element = document.createElement('span');\n",
              "  element.textContent = text;\n",
              "  for (const key of Object.keys(styleAttributes)) {\n",
              "    element.style[key] = styleAttributes[key];\n",
              "  }\n",
              "  return element;\n",
              "}\n",
              "\n",
              "// Max number of bytes which will be uploaded at a time.\n",
              "const MAX_PAYLOAD_SIZE = 100 * 1024;\n",
              "\n",
              "function _uploadFiles(inputId, outputId) {\n",
              "  const steps = uploadFilesStep(inputId, outputId);\n",
              "  const outputElement = document.getElementById(outputId);\n",
              "  // Cache steps on the outputElement to make it available for the next call\n",
              "  // to uploadFilesContinue from Python.\n",
              "  outputElement.steps = steps;\n",
              "\n",
              "  return _uploadFilesContinue(outputId);\n",
              "}\n",
              "\n",
              "// This is roughly an async generator (not supported in the browser yet),\n",
              "// where there are multiple asynchronous steps and the Python side is going\n",
              "// to poll for completion of each step.\n",
              "// This uses a Promise to block the python side on completion of each step,\n",
              "// then passes the result of the previous step as the input to the next step.\n",
              "function _uploadFilesContinue(outputId) {\n",
              "  const outputElement = document.getElementById(outputId);\n",
              "  const steps = outputElement.steps;\n",
              "\n",
              "  const next = steps.next(outputElement.lastPromiseValue);\n",
              "  return Promise.resolve(next.value.promise).then((value) => {\n",
              "    // Cache the last promise value to make it available to the next\n",
              "    // step of the generator.\n",
              "    outputElement.lastPromiseValue = value;\n",
              "    return next.value.response;\n",
              "  });\n",
              "}\n",
              "\n",
              "/**\n",
              " * Generator function which is called between each async step of the upload\n",
              " * process.\n",
              " * @param {string} inputId Element ID of the input file picker element.\n",
              " * @param {string} outputId Element ID of the output display.\n",
              " * @return {!Iterable<!Object>} Iterable of next steps.\n",
              " */\n",
              "function* uploadFilesStep(inputId, outputId) {\n",
              "  const inputElement = document.getElementById(inputId);\n",
              "  inputElement.disabled = false;\n",
              "\n",
              "  const outputElement = document.getElementById(outputId);\n",
              "  outputElement.innerHTML = '';\n",
              "\n",
              "  const pickedPromise = new Promise((resolve) => {\n",
              "    inputElement.addEventListener('change', (e) => {\n",
              "      resolve(e.target.files);\n",
              "    });\n",
              "  });\n",
              "\n",
              "  const cancel = document.createElement('button');\n",
              "  inputElement.parentElement.appendChild(cancel);\n",
              "  cancel.textContent = 'Cancel upload';\n",
              "  const cancelPromise = new Promise((resolve) => {\n",
              "    cancel.onclick = () => {\n",
              "      resolve(null);\n",
              "    };\n",
              "  });\n",
              "\n",
              "  // Wait for the user to pick the files.\n",
              "  const files = yield {\n",
              "    promise: Promise.race([pickedPromise, cancelPromise]),\n",
              "    response: {\n",
              "      action: 'starting',\n",
              "    }\n",
              "  };\n",
              "\n",
              "  cancel.remove();\n",
              "\n",
              "  // Disable the input element since further picks are not allowed.\n",
              "  inputElement.disabled = true;\n",
              "\n",
              "  if (!files) {\n",
              "    return {\n",
              "      response: {\n",
              "        action: 'complete',\n",
              "      }\n",
              "    };\n",
              "  }\n",
              "\n",
              "  for (const file of files) {\n",
              "    const li = document.createElement('li');\n",
              "    li.append(span(file.name, {fontWeight: 'bold'}));\n",
              "    li.append(span(\n",
              "        `(${file.type || 'n/a'}) - ${file.size} bytes, ` +\n",
              "        `last modified: ${\n",
              "            file.lastModifiedDate ? file.lastModifiedDate.toLocaleDateString() :\n",
              "                                    'n/a'} - `));\n",
              "    const percent = span('0% done');\n",
              "    li.appendChild(percent);\n",
              "\n",
              "    outputElement.appendChild(li);\n",
              "\n",
              "    const fileDataPromise = new Promise((resolve) => {\n",
              "      const reader = new FileReader();\n",
              "      reader.onload = (e) => {\n",
              "        resolve(e.target.result);\n",
              "      };\n",
              "      reader.readAsArrayBuffer(file);\n",
              "    });\n",
              "    // Wait for the data to be ready.\n",
              "    let fileData = yield {\n",
              "      promise: fileDataPromise,\n",
              "      response: {\n",
              "        action: 'continue',\n",
              "      }\n",
              "    };\n",
              "\n",
              "    // Use a chunked sending to avoid message size limits. See b/62115660.\n",
              "    let position = 0;\n",
              "    do {\n",
              "      const length = Math.min(fileData.byteLength - position, MAX_PAYLOAD_SIZE);\n",
              "      const chunk = new Uint8Array(fileData, position, length);\n",
              "      position += length;\n",
              "\n",
              "      const base64 = btoa(String.fromCharCode.apply(null, chunk));\n",
              "      yield {\n",
              "        response: {\n",
              "          action: 'append',\n",
              "          file: file.name,\n",
              "          data: base64,\n",
              "        },\n",
              "      };\n",
              "\n",
              "      let percentDone = fileData.byteLength === 0 ?\n",
              "          100 :\n",
              "          Math.round((position / fileData.byteLength) * 100);\n",
              "      percent.textContent = `${percentDone}% done`;\n",
              "\n",
              "    } while (position < fileData.byteLength);\n",
              "  }\n",
              "\n",
              "  // All done.\n",
              "  yield {\n",
              "    response: {\n",
              "      action: 'complete',\n",
              "    }\n",
              "  };\n",
              "}\n",
              "\n",
              "scope.google = scope.google || {};\n",
              "scope.google.colab = scope.google.colab || {};\n",
              "scope.google.colab._files = {\n",
              "  _uploadFiles,\n",
              "  _uploadFilesContinue,\n",
              "};\n",
              "})(self);\n",
              "</script> "
            ]
          },
          "metadata": {}
        }
      ],
      "source": [
        "#upload the socialmediastocks.csv file\n",
        "uploaded = files.upload()"
      ]
    },
    {
      "cell_type": "code",
      "execution_count": null,
      "metadata": {
        "id": "bjcbp2lOoNhI"
      },
      "outputs": [],
      "source": [
        "stocks=pd.read_csv('social_media_stocks.csv')\n",
        "stocks"
      ]
    },
    {
      "cell_type": "code",
      "execution_count": null,
      "metadata": {
        "id": "6ASTYmC2saDh"
      },
      "outputs": [],
      "source": [
        "stocks.shape"
      ]
    },
    {
      "cell_type": "code",
      "execution_count": null,
      "metadata": {
        "id": "uJmR9s45uQ3j"
      },
      "outputs": [],
      "source": [
        "facebook = stocks[stocks['Symbol'] == 'FB']\n",
        "facebook\n",
        "\n"
      ]
    },
    {
      "cell_type": "code",
      "execution_count": null,
      "metadata": {
        "id": "0__CGflThhFZ"
      },
      "outputs": [],
      "source": [
        "twitter = stocks[stocks['Symbol'] == 'TWTR']\n",
        "twitter"
      ]
    },
    {
      "cell_type": "code",
      "execution_count": null,
      "metadata": {
        "id": "Axy0obYAiD0y"
      },
      "outputs": [],
      "source": [
        "snapchat = stocks[stocks['Symbol'] == 'SNAP']\n",
        "snapchat"
      ]
    },
    {
      "cell_type": "code",
      "execution_count": null,
      "metadata": {
        "id": "6chTs9vRdyGF"
      },
      "outputs": [],
      "source": [
        "facebook['date'] = pd.to_datetime(facebook['Date'])\n",
        "facebook['date'].dt.to_period('M')\n",
        "twitter['date'] = pd.to_datetime(twitter['Date'])\n",
        "twitter['date'].dt.to_period('M')\n",
        "snapchat['date'] = pd.to_datetime(snapchat['Date'])\n",
        "snapchat['date'].dt.to_period('M')"
      ]
    },
    {
      "cell_type": "code",
      "execution_count": null,
      "metadata": {
        "id": "Oic_Ljo5t7-K"
      },
      "outputs": [],
      "source": [
        "#visualize facebook stock\n",
        "plt.figure(figsize=(16,8))\n",
        "plt.title('Close Price History of Facebook')\n",
        "plt.plot(facebook['date'],facebook['Close'] )\n",
        "plt.xlabel('Date',fontsize=18)\n",
        "plt.ylabel('Close Price USD($)',fontsize=18)\n",
        "plt.show()"
      ]
    },
    {
      "cell_type": "code",
      "execution_count": null,
      "metadata": {
        "id": "pr1LhsNziR1_"
      },
      "outputs": [],
      "source": [
        "#visualize twitter stock\n",
        "plt.figure(figsize=(16,8))\n",
        "plt.title('Close Price History of Twitter')\n",
        "plt.plot(twitter['date'],twitter['Close'] )\n",
        "plt.xlabel('Date',fontsize=18)\n",
        "plt.ylabel('Close Price USD($)',fontsize=18)\n",
        "plt.show()"
      ]
    },
    {
      "cell_type": "code",
      "execution_count": null,
      "metadata": {
        "id": "pElenbaWihSI"
      },
      "outputs": [],
      "source": [
        "#visualize snapchat stock\n",
        "plt.figure(figsize=(16,8))\n",
        "plt.title('Close Price History of Snapchat')\n",
        "plt.plot(snapchat['date'],snapchat['Close'] )\n",
        "plt.xlabel('Date',fontsize=18)\n",
        "plt.ylabel('Close Price USD($)',fontsize=18)\n",
        "plt.show()"
      ]
    },
    {
      "cell_type": "code",
      "execution_count": null,
      "metadata": {
        "id": "Bvn9JePNu2zc"
      },
      "outputs": [],
      "source": [
        "#----facebook----\n",
        "data_f=facebook.filter(['Close'])\n",
        "dataset_f=data_f.values\n",
        "training_data_len_f= math.ceil(len(dataset_f) * .8)\n",
        "\n",
        "#scale the data\n",
        "scaler_f=MinMaxScaler(feature_range=(0,1))\n",
        "scaled_data_f=scaler_f.fit_transform(dataset_f)\n",
        "\n",
        "scaled_data_f\n",
        "#----twitter----\n",
        "data_t=twitter.filter(['Close'])\n",
        "dataset_t=data_t.values\n",
        "training_data_len_t= math.ceil(len(dataset_t) * .8)\n",
        "\n",
        "#scale the data\n",
        "scaler_t=MinMaxScaler(feature_range=(0,1))\n",
        "scaled_data_t=scaler_t.fit_transform(dataset_t)\n",
        "\n",
        "scaled_data_t\n",
        "#----snapchat----\n",
        "data_s=snapchat.filter(['Close'])\n",
        "dataset_s=data_s.values\n",
        "training_data_len_s= math.ceil(len(dataset_s) * .8)\n",
        "\n",
        "#scale the data\n",
        "scaler_s=MinMaxScaler(feature_range=(0,1))\n",
        "scaled_data_s=scaler_s.fit_transform(dataset_s)\n",
        "\n",
        "scaled_data_s"
      ]
    },
    {
      "cell_type": "code",
      "execution_count": null,
      "metadata": {
        "id": "XlnHZTZkvjhV"
      },
      "outputs": [],
      "source": [
        "#Create training data set\n",
        "#----facebook----\n",
        "train_data_f=scaled_data_f[0:training_data_len_f,:]\n",
        "\n",
        "#split the data into x_train and y_train data sets\n",
        "\n",
        "x_train_f =[]\n",
        "y_train_f=[]\n",
        "\n",
        "\n",
        "for i in range(60,len(train_data_f)):\n",
        "  x_train_f.append(train_data_f[i-60:i,0])\n",
        "  y_train_f.append(train_data_f[i,0])\n",
        "  if i<=60:\n",
        "\n",
        "    print(x_train_f)\n",
        "    print(y_train_f)\n",
        "    print()\n",
        "#----twitter---\n",
        "#Create training data set\n",
        "\n",
        "train_data_t=scaled_data_t[0:training_data_len_t,:]\n",
        "\n",
        "#split the data into x_train and y_train data sets\n",
        "\n",
        "x_train_t =[]\n",
        "y_train_t=[]\n",
        "\n",
        "\n",
        "for i in range(60,len(train_data_t)):\n",
        "  x_train_t.append(train_data_t[i-60:i,0])\n",
        "  y_train_t.append(train_data_t[i,0])\n",
        "  if i<=60:\n",
        "\n",
        "    print(x_train_t)\n",
        "    print(y_train_t)\n",
        "    print()\n",
        "#----snapchat----\n",
        "#Create training data set\n",
        "\n",
        "train_data_s=scaled_data_s[0:training_data_len_s,:]\n",
        "\n",
        "#split the data into x_train and y_train data sets\n",
        "\n",
        "x_train_s =[]\n",
        "y_train_s =[]\n",
        "\n",
        "\n",
        "for i in range(60,len(train_data_s)):\n",
        "  x_train_s.append(train_data_s[i-60:i,0])\n",
        "  y_train_s.append(train_data_s[i,0])\n",
        "  if i<=60:\n",
        "\n",
        "    print(x_train_s)\n",
        "    print(y_train_s)\n",
        "    print()"
      ]
    },
    {
      "cell_type": "code",
      "execution_count": null,
      "metadata": {
        "id": "FuX_zByqvrOJ"
      },
      "outputs": [],
      "source": [
        "#convert train data to numpy arrays\n",
        "#Reshape\n",
        "#----facebook----\n",
        "x_train_f,y_train_f=np.array(x_train_f),np.array(y_train_f)\n",
        "x_train_f.shape\n",
        "#----twitter----\n",
        "x_train_t,y_train_t=np.array(x_train_t),np.array(y_train_t)\n",
        "x_train_t.shape\n",
        "#----snapchat----\n",
        "x_train_s,y_train_s=np.array(x_train_s),np.array(y_train_s)\n",
        "x_train_s.shape\n"
      ]
    },
    {
      "cell_type": "code",
      "execution_count": null,
      "metadata": {
        "id": "rCcACotVvtku"
      },
      "outputs": [],
      "source": [
        "#----facebook----\n",
        "x_train_f=np.reshape(x_train_f,(x_train_f.shape[0],x_train_f.shape[1],1))\n",
        "x_train_f.shape\n",
        "#----twitter----\n",
        "x_train_t=np.reshape(x_train_t,(x_train_t.shape[0],x_train_t.shape[1],1))\n",
        "x_train_t.shape\n",
        "#----snapchat----\n",
        "x_train_s=np.reshape(x_train_s,(x_train_s.shape[0],x_train_s.shape[1],1))\n",
        "x_train_s.shape"
      ]
    },
    {
      "cell_type": "code",
      "execution_count": null,
      "metadata": {
        "id": "IH9XIAOhvu77"
      },
      "outputs": [],
      "source": [
        "# build LSTM model\n",
        "#----facebook----\n",
        "model_f=Sequential()\n",
        "model_f.add(LSTM(50,return_sequences=True,input_shape=(x_train_f.shape[1],1)))\n",
        "model_f.add(LSTM(50,return_sequences=False))\n",
        "model_f.add(Dense(25))\n",
        "model_f.add(Dense(1))\n",
        "#----twitter----\n",
        "model_t=Sequential()\n",
        "model_t.add(LSTM(50,return_sequences=True,input_shape=(x_train_t.shape[1],1)))\n",
        "model_t.add(LSTM(50,return_sequences=False))\n",
        "model_t.add(Dense(25))\n",
        "model_t.add(Dense(1))\n",
        "#----snapchat----\n",
        "model_s=Sequential()\n",
        "model_s.add(LSTM(50,return_sequences=True,input_shape=(x_train_s.shape[1],1)))\n",
        "model_s.add(LSTM(50,return_sequences=False))\n",
        "model_s.add(Dense(25))\n",
        "model_s.add(Dense(1))"
      ]
    },
    {
      "cell_type": "code",
      "execution_count": null,
      "metadata": {
        "id": "Z2enah_qvwtu"
      },
      "outputs": [],
      "source": [
        "#copile the model\n",
        "#----facebook----\n",
        "model_f.compile(optimizer='adam',loss='mean_squared_error')\n",
        "#----twitter----\n",
        "model_t.compile(optimizer='adam',loss='mean_squared_error')\n",
        "#----snapchat----\n",
        "model_s.compile(optimizer='adam',loss='mean_squared_error')"
      ]
    },
    {
      "cell_type": "code",
      "execution_count": null,
      "metadata": {
        "id": "ECYFQRPrv4-9"
      },
      "outputs": [],
      "source": [
        "#train the model\n",
        "#----facebook----\n",
        "model_f.fit(x_train_f,y_train_f,batch_size=1,epochs=1)\n",
        "#----twitter----\n",
        "model_t.fit(x_train_t,y_train_t,batch_size=1,epochs=1)\n",
        "#----snapchat----\n",
        "model_s.fit(x_train_s,y_train_s,batch_size=1,epochs=1)\n"
      ]
    },
    {
      "cell_type": "code",
      "execution_count": null,
      "metadata": {
        "id": "KeXmObipv6yo"
      },
      "outputs": [],
      "source": [
        "#create the testing data set\n",
        "#create a new array containing scaled values from index 1543 to 2003\n",
        "#----facebook----\n",
        "test_data_f=scaled_data_f[training_data_len_f - 60:,:]\n",
        "#----twitter----\n",
        "test_data_t=scaled_data_t[training_data_len_t - 60:,:]\n",
        "#----snapchat----\n",
        "test_data_s=scaled_data_s[training_data_len_s - 60:,:]\n",
        "\n",
        "#create the data sets x_test and y_test\n",
        "#----facebook----\n",
        "x_test_f=[]\n",
        "y_test_f=dataset_f[training_data_len_f:,:]\n",
        "for i in range(60,len(test_data_f)):\n",
        "  x_test_f.append(test_data_f[i-60:i,0])\n",
        "#----twitter----\n",
        "x_test_t=[]\n",
        "y_test_t=dataset_t[training_data_len_t:,:]\n",
        "for i in range(60,len(test_data_t)):\n",
        "  x_test_t.append(test_data_t[i-60:i,0])\n",
        "#----snapchat----\n",
        "x_test_s=[]\n",
        "y_test_s=dataset_s[training_data_len_s:,:]\n",
        "for i in range(60,len(test_data_s)):\n",
        "  x_test_s.append(test_data_s[i-60:i,0])"
      ]
    },
    {
      "cell_type": "code",
      "execution_count": null,
      "metadata": {
        "id": "N3pAc86kwY8U"
      },
      "outputs": [],
      "source": [
        "#convert the data to a numpy array\n",
        "#reshape\n",
        "#----facebook----\n",
        "x_test_f=np.array(x_test_f)\n",
        "x_test_f=np.reshape(x_test_f,(x_test_f.shape[0],x_test_f.shape[1],1))\n",
        "#----twitter----\n",
        "x_test_t=np.array(x_test_t)\n",
        "x_test_t=np.reshape(x_test_t,(x_test_t.shape[0],x_test_t.shape[1],1))\n",
        "#----snapchat----\n",
        "x_test_s=np.array(x_test_s)\n",
        "x_test_s=np.reshape(x_test_s,(x_test_s.shape[0],x_test_s.shape[1],1))"
      ]
    },
    {
      "cell_type": "code",
      "execution_count": null,
      "metadata": {
        "id": "rFk5xMyBwcGp"
      },
      "outputs": [],
      "source": [
        "#get the models predicted price values\n",
        "#----facebook----\n",
        "predictions_f=model_f.predict(x_test_f)\n",
        "predictions_f=scaler_f.inverse_transform(predictions_f)\n",
        "#----twitter----\n",
        "predictions_t=model_t.predict(x_test_t)\n",
        "predictions_t=scaler_t.inverse_transform(predictions_t)\n",
        "#----snapchat----\n",
        "predictions_s=model_s.predict(x_test_s)\n",
        "predictions_s=scaler_s.inverse_transform(predictions_s)"
      ]
    },
    {
      "cell_type": "code",
      "execution_count": null,
      "metadata": {
        "id": "L1IalrYvwee1"
      },
      "outputs": [],
      "source": [
        "#Get the root mean squared error(RMSE)\n",
        "#----facebook----\n",
        "rmse_f=np.sqrt( np.mean((predictions_f - y_test_f)**2))\n",
        "rmse_f\n",
        "#----twitter----\n",
        "rmse_t=np.sqrt( np.mean((predictions_t - y_test_t)**2))\n",
        "rmse_t\n",
        "#----snapchat----\n",
        "rmse_s=np.sqrt( np.mean((predictions_s - y_test_s)**2))\n",
        "rmse_s"
      ]
    },
    {
      "cell_type": "code",
      "execution_count": null,
      "metadata": {
        "id": "Lj9uT5uFwLdc"
      },
      "outputs": [],
      "source": [
        "#Get the mean absolute percentage error(MAPE)\n",
        "#----facebook----\n",
        "mape_f= np.mean(np.abs((y_test_f-predictions_f) / y_test_f)) * 100\n",
        "mape_f\n",
        "#----twitter----\n",
        "mape_t= np.mean(np.abs((y_test_t-predictions_t) / y_test_t)) * 100\n",
        "mape_t\n",
        "#----snapchat----\n",
        "mape_s= np.mean(np.abs((y_test_s-predictions_s) / y_test_s)) * 100\n",
        "mape_s"
      ]
    },
    {
      "cell_type": "code",
      "execution_count": null,
      "metadata": {
        "id": "7PRevUcfkXtZ"
      },
      "outputs": [],
      "source": [
        "#----facebook----\n",
        "train_f=facebook[:training_data_len_f]\n",
        "valid_f=facebook[training_data_len_f:]\n",
        "valid_f['Predictions']=predictions_f\n",
        "#----twitter----\n",
        "train_t=twitter[:training_data_len_t]\n",
        "valid_t=twitter[training_data_len_t:]\n",
        "valid_t['Predictions']=predictions_t\n",
        "#----snapchat----\n",
        "train_s=snapchat[:training_data_len_s]\n",
        "valid_s=snapchat[training_data_len_s:]\n",
        "valid_s['Predictions']=predictions_s"
      ]
    },
    {
      "cell_type": "code",
      "execution_count": null,
      "metadata": {
        "id": "wBj8Bqm5fabU"
      },
      "outputs": [],
      "source": [
        "train_f"
      ]
    },
    {
      "cell_type": "code",
      "execution_count": null,
      "metadata": {
        "id": "7Dai2B7jfnLk"
      },
      "outputs": [],
      "source": [
        "#----facebook----\n",
        "train_f['date'] = pd.to_datetime(train_f['Date'])\n",
        "train_f['date'].dt.to_period('M')\n",
        "#----twitter----\n",
        "train_t['date'] = pd.to_datetime(train_t['Date'])\n",
        "train_t['date'].dt.to_period('M')\n",
        "#----snapchat----\n",
        "train_s['date'] = pd.to_datetime(train_s['Date'])\n",
        "train_s['date'].dt.to_period('M')"
      ]
    },
    {
      "cell_type": "code",
      "execution_count": null,
      "metadata": {
        "id": "hutTngnhfceT"
      },
      "outputs": [],
      "source": []
    },
    {
      "cell_type": "code",
      "execution_count": null,
      "metadata": {
        "id": "QsLCwk8hfyUe"
      },
      "outputs": [],
      "source": [
        "#----facebook----\n",
        "valid_f['date'] = pd.to_datetime(valid_f['Date'])\n",
        "valid_f['date'].dt.to_period('M')\n",
        "#----twitter----\n",
        "valid_t['date'] = pd.to_datetime(valid_t['Date'])\n",
        "valid_t['date'].dt.to_period('M')\n",
        "#----snapchat----\n",
        "valid_s['date'] = pd.to_datetime(valid_s['Date'])\n",
        "valid_s['date'].dt.to_period('M')\n"
      ]
    },
    {
      "cell_type": "code",
      "execution_count": null,
      "metadata": {
        "id": "nZVnGrRfwfsh"
      },
      "outputs": [],
      "source": [
        "#visualize the data\n",
        "#----facebook----\n",
        "plt.figure(figsize=(16,8))\n",
        "plt.title('Facebook Model')\n",
        "plt.xlabel('Date',fontsize=18)\n",
        "plt.ylabel('Close Price USD($)',fontsize=18)\n",
        "plt.plot(train_f['date'],train_f['Close'])\n",
        "plt.plot(valid_f['date'],valid_f[['Close','Predictions']])\n",
        "plt.legend(['Train','Val','Predictions'],loc='lower right')\n",
        "plt.show()"
      ]
    },
    {
      "cell_type": "code",
      "execution_count": null,
      "metadata": {
        "id": "Q0T3zd5Gp9bw"
      },
      "outputs": [],
      "source": [
        "#visualize the data\n",
        "#----twitter----\n",
        "plt.figure(figsize=(16,8))\n",
        "plt.title('Twitter Model')\n",
        "plt.xlabel('Date',fontsize=18)\n",
        "plt.ylabel('Close Price USD($)',fontsize=18)\n",
        "plt.plot(train_t['date'],train_t['Close'])\n",
        "plt.plot(valid_t['date'],valid_t[['Close','Predictions']])\n",
        "plt.legend(['Train','Val','Predictions'],loc='lower right')\n",
        "plt.show()"
      ]
    },
    {
      "cell_type": "code",
      "execution_count": null,
      "metadata": {
        "id": "P4DGpb6SqDk_"
      },
      "outputs": [],
      "source": [
        "#visualize the data\n",
        "#----snapchat----\n",
        "plt.figure(figsize=(16,8))\n",
        "plt.title('Snapchat Model')\n",
        "plt.xlabel('Date',fontsize=18)\n",
        "plt.ylabel('Close Price USD($)',fontsize=18)\n",
        "plt.plot(train_s['date'],train_s['Close'])\n",
        "plt.plot(valid_s['date'],valid_s[['Close','Predictions']])\n",
        "plt.legend(['Train','Val','Predictions'],loc='lower right')\n",
        "plt.show()"
      ]
    },
    {
      "cell_type": "code",
      "execution_count": null,
      "metadata": {
        "id": "eq0SvszRqJE9"
      },
      "outputs": [],
      "source": [
        "#compare stocks and its predictions\n",
        "plt.figure(figsize=(16,8))\n",
        "plt.title('Models Compined')\n",
        "plt.xlabel('Date',fontsize=18)\n",
        "plt.ylabel('Close Price USD($)',fontsize=18)\n",
        "plt.plot(train_f['date'],train_f['Close'])\n",
        "plt.plot(valid_f['date'],valid_f[['Close','Predictions']])\n",
        "plt.plot(train_t['date'],train_t['Close'])\n",
        "plt.plot(valid_t['date'],valid_t[['Close','Predictions']])\n",
        "plt.plot(train_s['date'],train_s['Close'])\n",
        "plt.plot(valid_s['date'],valid_s[['Close','Predictions']])\n",
        "#plt.legend(['Train','Val','Predictions'],loc='lower right')\n",
        "plt.show()\n"
      ]
    },
    {
      "cell_type": "code",
      "execution_count": null,
      "metadata": {
        "id": "2WBAv6pvrIsH"
      },
      "outputs": [],
      "source": []
    },
    {
      "cell_type": "code",
      "execution_count": null,
      "metadata": {
        "id": "_cpBE56-Q3m4"
      },
      "outputs": [],
      "source": [
        "valid_f"
      ]
    },
    {
      "cell_type": "code",
      "execution_count": null,
      "metadata": {
        "id": "28hCYOq1RKfF"
      },
      "outputs": [],
      "source": []
    }
  ],
  "metadata": {
    "colab": {
      "provenance": []
    },
    "kernelspec": {
      "display_name": "Python 3",
      "name": "python3"
    },
    "language_info": {
      "name": "python"
    }
  },
  "nbformat": 4,
  "nbformat_minor": 0
}